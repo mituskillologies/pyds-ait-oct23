{
 "cells": [
  {
   "cell_type": "code",
   "execution_count": 12,
   "id": "56147eb1",
   "metadata": {},
   "outputs": [],
   "source": [
    "class Student:\n",
    "    def info(self):\n",
    "        print('Ashish,13,90')\n",
    "        \n",
    "stud1=Student()"
   ]
  },
  {
   "cell_type": "code",
   "execution_count": 13,
   "id": "44d631a4",
   "metadata": {},
   "outputs": [
    {
     "name": "stdout",
     "output_type": "stream",
     "text": [
      "Ashish,13,90\n"
     ]
    }
   ],
   "source": [
    "stud1.info()"
   ]
  },
  {
   "cell_type": "code",
   "execution_count": 14,
   "id": "37f3479f",
   "metadata": {},
   "outputs": [],
   "source": [
    "# __init__ -> will call the function automatically\n",
    "# it will be called when an object is created"
   ]
  },
  {
   "cell_type": "code",
   "execution_count": 17,
   "id": "91a8497d",
   "metadata": {},
   "outputs": [
    {
     "name": "stdout",
     "output_type": "stream",
     "text": [
      "hello\n",
      "Ashish,13,90\n"
     ]
    }
   ],
   "source": [
    "class Student:\n",
    "    def __init__(self):\n",
    "        print('hello')\n",
    "        \n",
    "    def info(self):\n",
    "        print('Ashish,13,90')\n",
    "        \n",
    "stud1=Student()        \n",
    "stud1.info()\n",
    "\n",
    "        "
   ]
  },
  {
   "cell_type": "code",
   "execution_count": 19,
   "id": "b48d91b6",
   "metadata": {},
   "outputs": [
    {
     "data": {
      "text/plain": [
       "''"
      ]
     },
     "execution_count": 19,
     "metadata": {},
     "output_type": "execute_result"
    }
   ],
   "source": [
    "''' Two underscores at the beginning:\n",
    "\n",
    "This causes a lot of confusion. It should not be used to create \n",
    "a private method. It should be used to avoid your \n",
    "method being overridden nby a subclass or accessed accidentally.\n",
    "\n",
    "Single underscore at the beginning:\n",
    "\n",
    "Python doesn't have real private methods. Instead, one underscore \n",
    "at the start of a method or attribute name means you shouldn't \n",
    "access this method, because it's not part of the API.\n",
    "\n",
    "Two underscores at the beginning and at the end:\n",
    "\n",
    "When we see a method like __this__, don't call it. \n",
    "This is a method which Python is meant to call, not you.\n",
    "'''\n",
    ";"
   ]
  },
  {
   "cell_type": "code",
   "execution_count": 22,
   "id": "42504ae3",
   "metadata": {},
   "outputs": [
    {
     "name": "stdout",
     "output_type": "stream",
     "text": [
      "First Class\n"
     ]
    }
   ],
   "source": [
    "class Person:                     # class definition\n",
    "    def __init__(self, n, m):  # constructor\n",
    "        self.name = n             # properties\n",
    "        self.marks = m\n",
    "    def show(self):               # behaviour / method\n",
    "        print('Values are:')\n",
    "        print(self.name, self.marks)\n",
    "    def isFirstClass(self):\n",
    "        if self.marks >= 60:\n",
    "            print('First Class')\n",
    "        else:\n",
    "            print('NOT First Class')\n",
    "            \n",
    "s1= Person('Anita', 78.33)\n",
    "s1.isFirstClass()"
   ]
  },
  {
   "cell_type": "code",
   "execution_count": 23,
   "id": "8909e91d",
   "metadata": {},
   "outputs": [],
   "source": [
    "# Inheritance"
   ]
  },
  {
   "cell_type": "code",
   "execution_count": 3,
   "id": "16a61926",
   "metadata": {},
   "outputs": [
    {
     "name": "stdout",
     "output_type": "stream",
     "text": [
      "1 working\n"
     ]
    }
   ],
   "source": [
    "class A:\n",
    "    def feature1(self):\n",
    "        print('1 working')\n",
    "        \n",
    "a = A()\n",
    "a.feature1()"
   ]
  },
  {
   "cell_type": "code",
   "execution_count": 5,
   "id": "f30c810d",
   "metadata": {},
   "outputs": [
    {
     "name": "stdout",
     "output_type": "stream",
     "text": [
      "1 working\n"
     ]
    }
   ],
   "source": [
    "class B(A):\n",
    "    def feature2(self):\n",
    "        print('2 working')\n",
    "        \n",
    "b = B()\n",
    "b.feature1()    # so A-> superclass  B-> Subclass"
   ]
  },
  {
   "cell_type": "code",
   "execution_count": 36,
   "id": "4a34ecdb",
   "metadata": {},
   "outputs": [
    {
     "data": {
      "text/plain": [
       "''"
      ]
     },
     "execution_count": 36,
     "metadata": {},
     "output_type": "execute_result"
    }
   ],
   "source": [
    "# Data Abstraction\n",
    "'''\n",
    "Data Abstraction \n",
    "\n",
    "It hides unnecessary code details from the user. \n",
    "Also,  when we do not want to give out sensitive parts of our \n",
    "code implementation and this is where data abstraction came.\n",
    "Data Abstraction in Python can be achieved by creating abstract\n",
    "classes.\n",
    "'''\n",
    ";"
   ]
  },
  {
   "cell_type": "code",
   "execution_count": 38,
   "id": "c242703a",
   "metadata": {},
   "outputs": [
    {
     "data": {
      "text/plain": [
       "''"
      ]
     },
     "execution_count": 38,
     "metadata": {},
     "output_type": "execute_result"
    }
   ],
   "source": [
    "'''In Python, we use double underscore (Or __) before the attributes name and those attributes\n",
    "will not be directly visible outside.''' \n",
    ";"
   ]
  },
  {
   "cell_type": "code",
   "execution_count": 39,
   "id": "810eebe6",
   "metadata": {},
   "outputs": [
    {
     "name": "stdout",
     "output_type": "stream",
     "text": [
      "2\n",
      "7\n"
     ]
    },
    {
     "ename": "AttributeError",
     "evalue": "'MyClass' object has no attribute '__hiddenVariable'",
     "output_type": "error",
     "traceback": [
      "\u001b[0;31m---------------------------------------------------------------------------\u001b[0m",
      "\u001b[0;31mAttributeError\u001b[0m                            Traceback (most recent call last)",
      "Cell \u001b[0;32mIn[39], line 18\u001b[0m\n\u001b[1;32m     15\u001b[0m myObject\u001b[38;5;241m.\u001b[39madd(\u001b[38;5;241m5\u001b[39m)\n\u001b[1;32m     17\u001b[0m \u001b[38;5;66;03m# This line causes error\u001b[39;00m\n\u001b[0;32m---> 18\u001b[0m \u001b[38;5;28mprint\u001b[39m (\u001b[43mmyObject\u001b[49m\u001b[38;5;241;43m.\u001b[39;49m\u001b[43m__hiddenVariable\u001b[49m)\n",
      "\u001b[0;31mAttributeError\u001b[0m: 'MyClass' object has no attribute '__hiddenVariable'"
     ]
    }
   ],
   "source": [
    "class MyClass:\n",
    "  \n",
    "    # Hidden member of MyClass\n",
    "    __hiddenVariable = 0\n",
    "    \n",
    "    # A member method that changes \n",
    "    # __hiddenVariable \n",
    "    def add(self, increment):\n",
    "        self.__hiddenVariable += increment\n",
    "        print (self.__hiddenVariable)\n",
    "   \n",
    "# Driver code\n",
    "myObject = MyClass()     \n",
    "myObject.add(2)\n",
    "myObject.add(5)\n",
    "  \n",
    "# This line causes error\n",
    "print (myObject.__hiddenVariable)"
   ]
  },
  {
   "cell_type": "code",
   "execution_count": 41,
   "id": "58780520",
   "metadata": {},
   "outputs": [
    {
     "data": {
      "text/plain": [
       "''"
      ]
     },
     "execution_count": 41,
     "metadata": {},
     "output_type": "execute_result"
    }
   ],
   "source": [
    "'''In the above program, we tried to access a hidden variable outside the class using an object and it threw an exception.\n",
    "We can access the value of a hidden attribute by a tricky syntax: '''\n",
    ";"
   ]
  },
  {
   "cell_type": "code",
   "execution_count": 40,
   "id": "df60e9a2",
   "metadata": {},
   "outputs": [
    {
     "name": "stdout",
     "output_type": "stream",
     "text": [
      "10\n"
     ]
    }
   ],
   "source": [
    "# A Python program to demonstrate that hidden\n",
    "# members can be accessed outside a class\n",
    "class MyClass:\n",
    "  \n",
    "    # Hidden member of MyClass\n",
    "    __hiddenVariable = 10\n",
    "  \n",
    "# Driver code\n",
    "myObject = MyClass()     \n",
    "print(myObject._MyClass__hiddenVariable)"
   ]
  },
  {
   "cell_type": "code",
   "execution_count": null,
   "id": "aeae88b0",
   "metadata": {},
   "outputs": [],
   "source": []
  }
 ],
 "metadata": {
  "kernelspec": {
   "display_name": "Python 3 (ipykernel)",
   "language": "python",
   "name": "python3"
  },
  "language_info": {
   "codemirror_mode": {
    "name": "ipython",
    "version": 3
   },
   "file_extension": ".py",
   "mimetype": "text/x-python",
   "name": "python",
   "nbconvert_exporter": "python",
   "pygments_lexer": "ipython3",
   "version": "3.9.16"
  }
 },
 "nbformat": 4,
 "nbformat_minor": 5
}
