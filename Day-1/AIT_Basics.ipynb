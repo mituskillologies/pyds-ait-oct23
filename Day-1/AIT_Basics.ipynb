{
 "cells": [
  {
   "cell_type": "code",
   "execution_count": 1,
   "id": "7f33dc5f",
   "metadata": {},
   "outputs": [
    {
     "name": "stdout",
     "output_type": "stream",
     "text": [
      "hello world\n"
     ]
    }
   ],
   "source": [
    "print ('hello world')"
   ]
  },
  {
   "cell_type": "code",
   "execution_count": 2,
   "id": "02431057",
   "metadata": {},
   "outputs": [
    {
     "name": "stdout",
     "output_type": "stream",
     "text": [
      "hello Rajesh\n"
     ]
    }
   ],
   "source": [
    "print (\"hello Rajesh\")"
   ]
  },
  {
   "cell_type": "code",
   "execution_count": 3,
   "id": "62733383",
   "metadata": {},
   "outputs": [],
   "source": [
    "x = 3"
   ]
  },
  {
   "cell_type": "code",
   "execution_count": 4,
   "id": "24c509ea",
   "metadata": {},
   "outputs": [
    {
     "name": "stdout",
     "output_type": "stream",
     "text": [
      "3\n"
     ]
    }
   ],
   "source": [
    "print(x)"
   ]
  },
  {
   "cell_type": "code",
   "execution_count": 5,
   "id": "720ffc79",
   "metadata": {},
   "outputs": [
    {
     "data": {
      "text/plain": [
       "3"
      ]
     },
     "execution_count": 5,
     "metadata": {},
     "output_type": "execute_result"
    }
   ],
   "source": [
    "x"
   ]
  },
  {
   "cell_type": "code",
   "execution_count": 6,
   "id": "06e99e27",
   "metadata": {},
   "outputs": [
    {
     "name": "stdout",
     "output_type": "stream",
     "text": [
      "addition is 13\n"
     ]
    }
   ],
   "source": [
    "x = 10\n",
    "y = 3\n",
    "print ('addition is', x+y)"
   ]
  },
  {
   "cell_type": "markdown",
   "id": "28d76892",
   "metadata": {},
   "source": [
    "#### keywords"
   ]
  },
  {
   "cell_type": "code",
   "execution_count": 7,
   "id": "39fcf503",
   "metadata": {},
   "outputs": [],
   "source": [
    "import keyword"
   ]
  },
  {
   "cell_type": "code",
   "execution_count": 8,
   "id": "958c7fa3",
   "metadata": {},
   "outputs": [
    {
     "data": {
      "text/plain": [
       "['False',\n",
       " 'None',\n",
       " 'True',\n",
       " '__peg_parser__',\n",
       " 'and',\n",
       " 'as',\n",
       " 'assert',\n",
       " 'async',\n",
       " 'await',\n",
       " 'break',\n",
       " 'class',\n",
       " 'continue',\n",
       " 'def',\n",
       " 'del',\n",
       " 'elif',\n",
       " 'else',\n",
       " 'except',\n",
       " 'finally',\n",
       " 'for',\n",
       " 'from',\n",
       " 'global',\n",
       " 'if',\n",
       " 'import',\n",
       " 'in',\n",
       " 'is',\n",
       " 'lambda',\n",
       " 'nonlocal',\n",
       " 'not',\n",
       " 'or',\n",
       " 'pass',\n",
       " 'raise',\n",
       " 'return',\n",
       " 'try',\n",
       " 'while',\n",
       " 'with',\n",
       " 'yield']"
      ]
     },
     "execution_count": 8,
     "metadata": {},
     "output_type": "execute_result"
    }
   ],
   "source": [
    "list = keyword.kwlist\n",
    "list"
   ]
  },
  {
   "cell_type": "code",
   "execution_count": 9,
   "id": "bf5d4c56",
   "metadata": {},
   "outputs": [
    {
     "ename": "SyntaxError",
     "evalue": "invalid syntax (1164311463.py, line 1)",
     "output_type": "error",
     "traceback": [
      "\u001b[0;36m  Cell \u001b[0;32mIn[9], line 1\u001b[0;36m\u001b[0m\n\u001b[0;31m    pass = 2\u001b[0m\n\u001b[0m         ^\u001b[0m\n\u001b[0;31mSyntaxError\u001b[0m\u001b[0;31m:\u001b[0m invalid syntax\n"
     ]
    }
   ],
   "source": [
    "pass = 2\n",
    "pass"
   ]
  },
  {
   "cell_type": "code",
   "execution_count": 10,
   "id": "45bcd5bc",
   "metadata": {},
   "outputs": [],
   "source": [
    "x =40"
   ]
  },
  {
   "cell_type": "code",
   "execution_count": 11,
   "id": "c0114554",
   "metadata": {},
   "outputs": [
    {
     "data": {
      "text/plain": [
       "int"
      ]
     },
     "execution_count": 11,
     "metadata": {},
     "output_type": "execute_result"
    }
   ],
   "source": [
    "type(x)"
   ]
  },
  {
   "cell_type": "code",
   "execution_count": 12,
   "id": "4b6f4dd8",
   "metadata": {},
   "outputs": [
    {
     "data": {
      "text/plain": [
       "float"
      ]
     },
     "execution_count": 12,
     "metadata": {},
     "output_type": "execute_result"
    }
   ],
   "source": [
    "y= 40.00\n",
    "type(y)"
   ]
  },
  {
   "cell_type": "code",
   "execution_count": 13,
   "id": "81383ed0",
   "metadata": {},
   "outputs": [
    {
     "data": {
      "text/plain": [
       "str"
      ]
     },
     "execution_count": 13,
     "metadata": {},
     "output_type": "execute_result"
    }
   ],
   "source": [
    "a = 'avi'\n",
    "type(a)"
   ]
  },
  {
   "cell_type": "code",
   "execution_count": 19,
   "id": "4d2f52fb",
   "metadata": {},
   "outputs": [
    {
     "data": {
      "text/plain": [
       "1306640548175833860777503788754672209633596156912592735334570714607109833588240565404470117698389812576303951834482754333554860383995747950848883761463737517312565116951965776064529707776639865371624522884504768987938109993275886232816998521685728494240864157627504685793020875324899191786809805159289822101274830743069020585777049858486316324576609315890469796664664841925146126878247425941831299758474728065368145755536080542837317937513048090381614621582668585888978774386598305563014302374695413140506262248383622205300759270816652328079930315497433911647413961293192250802119625244193840990256461833511883434211468949146423238523933391676751555402771264803346290070643957161090077508387548282043348614682105298345444653110019900060445836601209358610512284512694353293334622682381754247472798349326964628257359280216871644358901579471577444112683005266425565861270392928432659576575973899538143632495627997812362843210562645554370661901059596045709862209603068771818609554617774879040220362700830133233145297569545802702089157327966966861143606373793770668795933114230825927843945408441087670353166191399621252443380653834049060259080697110713599250230496088954618565967984907106349375544965580666410815667845030561298247896057936188533229620241880320699055361330853374331501167089044771450985853811124377523378201208863316063086195311430061353503251863494825684645425820666519243940834436191994504167707337989304023215239927088962552918341989770649012058409088747842108311063455144650426274988348818291518303740440502015921178724975107780661876034328195695655104203052546408534331848801593401809830664744945592197543059179899876547192454708902346133609312934480225488348517462671931157082522499661819801543284619004126380931080513760288120218140527309860756438619070334300087662002871959964022241784676781895837873953530433682231338227664187782012187883637933756043493376"
      ]
     },
     "execution_count": 19,
     "metadata": {},
     "output_type": "execute_result"
    }
   ],
   "source": [
    "x = 5638473729264983734 ** 100\n",
    "x"
   ]
  },
  {
   "cell_type": "code",
   "execution_count": 22,
   "id": "bdc381e7",
   "metadata": {},
   "outputs": [
    {
     "name": "stdout",
     "output_type": "stream",
     "text": [
      "enter the 1st number10\n",
      "enter the 2nd number8\n",
      "addition 18\n"
     ]
    }
   ],
   "source": [
    "x = int(input('enter the 1st number'))\n",
    "y = int(input('enter the 2nd number'))\n",
    "\n",
    "print ('addition', x+y)"
   ]
  },
  {
   "cell_type": "markdown",
   "id": "8dbb2785",
   "metadata": {},
   "source": [
    "#### multiple assignement"
   ]
  },
  {
   "cell_type": "code",
   "execution_count": 26,
   "id": "8e290e93",
   "metadata": {},
   "outputs": [],
   "source": [
    "num1, num2, num3 = 1, 22, 'hello'"
   ]
  },
  {
   "cell_type": "code",
   "execution_count": 27,
   "id": "44ffe5c2",
   "metadata": {},
   "outputs": [
    {
     "data": {
      "text/plain": [
       "(1, 22, 'hello')"
      ]
     },
     "execution_count": 27,
     "metadata": {},
     "output_type": "execute_result"
    }
   ],
   "source": [
    "num1, num2, num3"
   ]
  },
  {
   "cell_type": "code",
   "execution_count": 28,
   "id": "a82d1b01",
   "metadata": {},
   "outputs": [],
   "source": [
    "# Learning in 'Python' is fun"
   ]
  },
  {
   "cell_type": "code",
   "execution_count": 30,
   "id": "783e6093",
   "metadata": {},
   "outputs": [
    {
     "name": "stdout",
     "output_type": "stream",
     "text": [
      "Learning in \"Python\" is fun\n"
     ]
    }
   ],
   "source": [
    "print ('Learning in \"Python\" is fun')"
   ]
  },
  {
   "cell_type": "code",
   "execution_count": 32,
   "id": "d1bc5237",
   "metadata": {},
   "outputs": [
    {
     "data": {
      "text/plain": [
       "'hello world zzzzz'"
      ]
     },
     "execution_count": 32,
     "metadata": {},
     "output_type": "execute_result"
    }
   ],
   "source": [
    "word1 = 'hello'\n",
    "word2 = 'world'\n",
    "word3 = 'zzzzz'\n",
    "\n",
    "sent = word1 + \" \" + word2 + \" \" + word3\n",
    "sent"
   ]
  },
  {
   "cell_type": "code",
   "execution_count": 33,
   "id": "8e0c5435",
   "metadata": {},
   "outputs": [
    {
     "data": {
      "text/plain": [
       "'hellohellohellohellohellohellohellohellohellohello'"
      ]
     },
     "execution_count": 33,
     "metadata": {},
     "output_type": "execute_result"
    }
   ],
   "source": [
    "word1 * 10"
   ]
  },
  {
   "cell_type": "code",
   "execution_count": 34,
   "id": "1f405b1b",
   "metadata": {},
   "outputs": [
    {
     "data": {
      "text/plain": [
       "'hello hello hello hello hello hello hello hello hello hello '"
      ]
     },
     "execution_count": 34,
     "metadata": {},
     "output_type": "execute_result"
    }
   ],
   "source": [
    "(word1 + \" \") * 10"
   ]
  },
  {
   "cell_type": "code",
   "execution_count": 35,
   "id": "cef58e9f",
   "metadata": {},
   "outputs": [
    {
     "name": "stdout",
     "output_type": "stream",
     "text": [
      "hello\n",
      "world\n"
     ]
    }
   ],
   "source": [
    "print ('hello\\nworld')"
   ]
  },
  {
   "cell_type": "code",
   "execution_count": 36,
   "id": "e47575a5",
   "metadata": {},
   "outputs": [
    {
     "name": "stdout",
     "output_type": "stream",
     "text": [
      "hello\tworld\n"
     ]
    }
   ],
   "source": [
    "print ('hello\\tworld')"
   ]
  },
  {
   "cell_type": "code",
   "execution_count": 40,
   "id": "c693b8e4",
   "metadata": {},
   "outputs": [
    {
     "data": {
      "text/plain": [
       "'SAURABH'"
      ]
     },
     "execution_count": 40,
     "metadata": {},
     "output_type": "execute_result"
    }
   ],
   "source": [
    "name1 = 'Saurabh'\n",
    "n2 = name1.upper()\n",
    "n2"
   ]
  },
  {
   "cell_type": "code",
   "execution_count": 41,
   "id": "739935d5",
   "metadata": {},
   "outputs": [
    {
     "data": {
      "text/plain": [
       "'SAURABH'"
      ]
     },
     "execution_count": 41,
     "metadata": {},
     "output_type": "execute_result"
    }
   ],
   "source": [
    "n2"
   ]
  },
  {
   "cell_type": "code",
   "execution_count": 42,
   "id": "b548e1e6",
   "metadata": {},
   "outputs": [
    {
     "data": {
      "text/plain": [
       "'saurabh'"
      ]
     },
     "execution_count": 42,
     "metadata": {},
     "output_type": "execute_result"
    }
   ],
   "source": [
    "n2.lower()"
   ]
  },
  {
   "cell_type": "code",
   "execution_count": 43,
   "id": "a13f9e85",
   "metadata": {},
   "outputs": [
    {
     "data": {
      "text/plain": [
       "False"
      ]
     },
     "execution_count": 43,
     "metadata": {},
     "output_type": "execute_result"
    }
   ],
   "source": [
    "n2.startswith('s')"
   ]
  },
  {
   "cell_type": "code",
   "execution_count": 44,
   "id": "1f50fa26",
   "metadata": {},
   "outputs": [
    {
     "data": {
      "text/plain": [
       "True"
      ]
     },
     "execution_count": 44,
     "metadata": {},
     "output_type": "execute_result"
    }
   ],
   "source": [
    "n2.startswith('S')"
   ]
  },
  {
   "cell_type": "code",
   "execution_count": 45,
   "id": "7412515c",
   "metadata": {},
   "outputs": [
    {
     "data": {
      "text/plain": [
       "'SAORABH'"
      ]
     },
     "execution_count": 45,
     "metadata": {},
     "output_type": "execute_result"
    }
   ],
   "source": [
    "n2.replace('U','O')"
   ]
  },
  {
   "cell_type": "code",
   "execution_count": 49,
   "id": "3a158af1",
   "metadata": {},
   "outputs": [],
   "source": [
    "str2 = \" hello Saurabh, how are you \""
   ]
  },
  {
   "cell_type": "code",
   "execution_count": 50,
   "id": "c8a04f54",
   "metadata": {},
   "outputs": [
    {
     "data": {
      "text/plain": [
       "['hello', 'Saurabh,', 'how', 'are', 'you']"
      ]
     },
     "execution_count": 50,
     "metadata": {},
     "output_type": "execute_result"
    }
   ],
   "source": [
    "str2.split()"
   ]
  },
  {
   "cell_type": "code",
   "execution_count": 52,
   "id": "506a5cad",
   "metadata": {},
   "outputs": [
    {
     "data": {
      "text/plain": [
       "str"
      ]
     },
     "execution_count": 52,
     "metadata": {},
     "output_type": "execute_result"
    }
   ],
   "source": [
    "type(str2)"
   ]
  },
  {
   "cell_type": "code",
   "execution_count": 53,
   "id": "fd8f78c3",
   "metadata": {},
   "outputs": [
    {
     "data": {
      "text/plain": [
       "['__add__',\n",
       " '__class__',\n",
       " '__contains__',\n",
       " '__delattr__',\n",
       " '__dir__',\n",
       " '__doc__',\n",
       " '__eq__',\n",
       " '__format__',\n",
       " '__ge__',\n",
       " '__getattribute__',\n",
       " '__getitem__',\n",
       " '__getnewargs__',\n",
       " '__gt__',\n",
       " '__hash__',\n",
       " '__init__',\n",
       " '__init_subclass__',\n",
       " '__iter__',\n",
       " '__le__',\n",
       " '__len__',\n",
       " '__lt__',\n",
       " '__mod__',\n",
       " '__mul__',\n",
       " '__ne__',\n",
       " '__new__',\n",
       " '__reduce__',\n",
       " '__reduce_ex__',\n",
       " '__repr__',\n",
       " '__rmod__',\n",
       " '__rmul__',\n",
       " '__setattr__',\n",
       " '__sizeof__',\n",
       " '__str__',\n",
       " '__subclasshook__',\n",
       " 'capitalize',\n",
       " 'casefold',\n",
       " 'center',\n",
       " 'count',\n",
       " 'encode',\n",
       " 'endswith',\n",
       " 'expandtabs',\n",
       " 'find',\n",
       " 'format',\n",
       " 'format_map',\n",
       " 'index',\n",
       " 'isalnum',\n",
       " 'isalpha',\n",
       " 'isascii',\n",
       " 'isdecimal',\n",
       " 'isdigit',\n",
       " 'isidentifier',\n",
       " 'islower',\n",
       " 'isnumeric',\n",
       " 'isprintable',\n",
       " 'isspace',\n",
       " 'istitle',\n",
       " 'isupper',\n",
       " 'join',\n",
       " 'ljust',\n",
       " 'lower',\n",
       " 'lstrip',\n",
       " 'maketrans',\n",
       " 'partition',\n",
       " 'removeprefix',\n",
       " 'removesuffix',\n",
       " 'replace',\n",
       " 'rfind',\n",
       " 'rindex',\n",
       " 'rjust',\n",
       " 'rpartition',\n",
       " 'rsplit',\n",
       " 'rstrip',\n",
       " 'split',\n",
       " 'splitlines',\n",
       " 'startswith',\n",
       " 'strip',\n",
       " 'swapcase',\n",
       " 'title',\n",
       " 'translate',\n",
       " 'upper',\n",
       " 'zfill']"
      ]
     },
     "execution_count": 53,
     "metadata": {},
     "output_type": "execute_result"
    }
   ],
   "source": [
    "dir(str2)"
   ]
  },
  {
   "cell_type": "code",
   "execution_count": 54,
   "id": "ad432437",
   "metadata": {},
   "outputs": [
    {
     "name": "stdout",
     "output_type": "stream",
     "text": [
      "Help on built-in function zfill:\n",
      "\n",
      "zfill(width, /) method of builtins.str instance\n",
      "    Pad a numeric string with zeros on the left, to fill a field of the given width.\n",
      "    \n",
      "    The string is never truncated.\n",
      "\n"
     ]
    }
   ],
   "source": [
    "help(str2.zfill)"
   ]
  },
  {
   "cell_type": "code",
   "execution_count": 55,
   "id": "ac28d26f",
   "metadata": {},
   "outputs": [
    {
     "name": "stdout",
     "output_type": "stream",
     "text": [
      "Help on built-in function endswith:\n",
      "\n",
      "endswith(...) method of builtins.str instance\n",
      "    S.endswith(suffix[, start[, end]]) -> bool\n",
      "    \n",
      "    Return True if S ends with the specified suffix, False otherwise.\n",
      "    With optional start, test S beginning at that position.\n",
      "    With optional end, stop comparing S at that position.\n",
      "    suffix can also be a tuple of strings to try.\n",
      "\n"
     ]
    }
   ],
   "source": [
    "help(str.endswith)"
   ]
  },
  {
   "cell_type": "code",
   "execution_count": 56,
   "id": "f7442b56",
   "metadata": {},
   "outputs": [],
   "source": [
    "name = ' Rajesh '\n",
    "marks = 87"
   ]
  },
  {
   "cell_type": "code",
   "execution_count": 57,
   "id": "97d13eb1",
   "metadata": {},
   "outputs": [],
   "source": [
    "# print my name is Rajesh and i have gotten 87 marks"
   ]
  },
  {
   "cell_type": "code",
   "execution_count": 59,
   "id": "ab34497c",
   "metadata": {},
   "outputs": [
    {
     "name": "stdout",
     "output_type": "stream",
     "text": [
      "my name is   Rajesh   and i have gotten  87 marks\n"
     ]
    }
   ],
   "source": [
    "print ('my name is ', name,' and i have gotten ', marks, 'marks')"
   ]
  },
  {
   "cell_type": "markdown",
   "id": "4fc7e355",
   "metadata": {},
   "source": [
    "#### Arithmetic Operators"
   ]
  },
  {
   "cell_type": "code",
   "execution_count": 61,
   "id": "0a8daf15",
   "metadata": {},
   "outputs": [
    {
     "data": {
      "text/plain": [
       "''"
      ]
     },
     "execution_count": 61,
     "metadata": {},
     "output_type": "execute_result"
    }
   ],
   "source": [
    "'''\n",
    "+\n",
    "-\n",
    "/\n",
    "*\n",
    "// -> floor division\n",
    "% -> modulus\n",
    "**  -> raise to\n",
    "'''\n",
    ";"
   ]
  },
  {
   "cell_type": "code",
   "execution_count": 62,
   "id": "519a1313",
   "metadata": {},
   "outputs": [
    {
     "data": {
      "text/plain": [
       "2.2"
      ]
     },
     "execution_count": 62,
     "metadata": {},
     "output_type": "execute_result"
    }
   ],
   "source": [
    "11 / 5"
   ]
  },
  {
   "cell_type": "code",
   "execution_count": 63,
   "id": "0420b389",
   "metadata": {},
   "outputs": [
    {
     "data": {
      "text/plain": [
       "2"
      ]
     },
     "execution_count": 63,
     "metadata": {},
     "output_type": "execute_result"
    }
   ],
   "source": [
    "11 // 5"
   ]
  },
  {
   "cell_type": "markdown",
   "id": "d6e1d29a",
   "metadata": {},
   "source": [
    "#### relational operators"
   ]
  },
  {
   "cell_type": "code",
   "execution_count": 66,
   "id": "070244ea",
   "metadata": {},
   "outputs": [
    {
     "data": {
      "text/plain": [
       "''"
      ]
     },
     "execution_count": 66,
     "metadata": {},
     "output_type": "execute_result"
    }
   ],
   "source": [
    "'''\n",
    ">\n",
    "<\n",
    "==\n",
    "<=\n",
    ">=\n",
    "!=\n",
    "'''\n",
    ";"
   ]
  },
  {
   "cell_type": "code",
   "execution_count": 67,
   "id": "2412acb0",
   "metadata": {},
   "outputs": [],
   "source": [
    "num1 = 56\n",
    "num2 = 76"
   ]
  },
  {
   "cell_type": "code",
   "execution_count": 68,
   "id": "11a65d3b",
   "metadata": {},
   "outputs": [
    {
     "data": {
      "text/plain": [
       "False"
      ]
     },
     "execution_count": 68,
     "metadata": {},
     "output_type": "execute_result"
    }
   ],
   "source": [
    "num1 > num2 "
   ]
  },
  {
   "cell_type": "markdown",
   "id": "fefa782f",
   "metadata": {},
   "source": [
    "#### Logical Operators"
   ]
  },
  {
   "cell_type": "code",
   "execution_count": 69,
   "id": "d6de3117",
   "metadata": {},
   "outputs": [],
   "source": [
    "# and , or"
   ]
  },
  {
   "cell_type": "code",
   "execution_count": 70,
   "id": "84b358aa",
   "metadata": {},
   "outputs": [
    {
     "data": {
      "text/plain": [
       "False"
      ]
     },
     "execution_count": 70,
     "metadata": {},
     "output_type": "execute_result"
    }
   ],
   "source": [
    "num1 > num2 and num2 > num1"
   ]
  },
  {
   "cell_type": "code",
   "execution_count": 71,
   "id": "fffe946a",
   "metadata": {},
   "outputs": [
    {
     "data": {
      "text/plain": [
       "True"
      ]
     },
     "execution_count": 71,
     "metadata": {},
     "output_type": "execute_result"
    }
   ],
   "source": [
    "num1 > num2 or num2 > num1"
   ]
  },
  {
   "cell_type": "code",
   "execution_count": 72,
   "id": "adf21e76",
   "metadata": {},
   "outputs": [
    {
     "data": {
      "text/plain": [
       "False"
      ]
     },
     "execution_count": 72,
     "metadata": {},
     "output_type": "execute_result"
    }
   ],
   "source": [
    "num1 == num2"
   ]
  },
  {
   "cell_type": "code",
   "execution_count": 73,
   "id": "bd494895",
   "metadata": {},
   "outputs": [],
   "source": [
    "num1 = 12\n",
    "str1 = '12'"
   ]
  },
  {
   "cell_type": "code",
   "execution_count": 74,
   "id": "f6fc1e4e",
   "metadata": {},
   "outputs": [
    {
     "data": {
      "text/plain": [
       "False"
      ]
     },
     "execution_count": 74,
     "metadata": {},
     "output_type": "execute_result"
    }
   ],
   "source": [
    "type(num1) == type(str1)"
   ]
  },
  {
   "cell_type": "code",
   "execution_count": null,
   "id": "29c8823a",
   "metadata": {},
   "outputs": [],
   "source": []
  }
 ],
 "metadata": {
  "kernelspec": {
   "display_name": "Python 3 (ipykernel)",
   "language": "python",
   "name": "python3"
  },
  "language_info": {
   "codemirror_mode": {
    "name": "ipython",
    "version": 3
   },
   "file_extension": ".py",
   "mimetype": "text/x-python",
   "name": "python",
   "nbconvert_exporter": "python",
   "pygments_lexer": "ipython3",
   "version": "3.9.16"
  }
 },
 "nbformat": 4,
 "nbformat_minor": 5
}
