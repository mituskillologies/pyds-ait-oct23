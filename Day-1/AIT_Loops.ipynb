{
 "cells": [
  {
   "cell_type": "markdown",
   "id": "006d6c60",
   "metadata": {},
   "source": [
    "#### While loop"
   ]
  },
  {
   "cell_type": "code",
   "execution_count": 12,
   "id": "7eeaab0a",
   "metadata": {},
   "outputs": [
    {
     "name": "stdout",
     "output_type": "stream",
     "text": [
      "Kalpana Kalpana Kalpana Kalpana Kalpana Kalpana Kalpana Kalpana Kalpana Kalpana "
     ]
    }
   ],
   "source": [
    "name1 = 0\n",
    "\n",
    "while name1 < 10:\n",
    "    print('Kalpana', end = ' ')\n",
    "    name1 = name1 + 1\n",
    "    "
   ]
  },
  {
   "cell_type": "code",
   "execution_count": 13,
   "id": "cec4bc62",
   "metadata": {},
   "outputs": [
    {
     "name": "stdout",
     "output_type": "stream",
     "text": [
      "Kalpana Kalpana Kalpana Kalpana Kalpana Kalpana Kalpana Kalpana Kalpana Kalpana "
     ]
    }
   ],
   "source": [
    "name1 = 0\n",
    "\n",
    "while name1 < 10:\n",
    "    print('Kalpana', end = ' ')\n",
    "    name1 += 1"
   ]
  },
  {
   "cell_type": "code",
   "execution_count": 14,
   "id": "d81659f6",
   "metadata": {},
   "outputs": [],
   "source": [
    "# print numbers from 21 to 30"
   ]
  },
  {
   "cell_type": "code",
   "execution_count": 15,
   "id": "9992a49d",
   "metadata": {},
   "outputs": [],
   "source": [
    "# print the sum of first 10 natural numbers"
   ]
  },
  {
   "cell_type": "code",
   "execution_count": 18,
   "id": "05939284",
   "metadata": {},
   "outputs": [
    {
     "name": "stdout",
     "output_type": "stream",
     "text": [
      "Addition is  55\n"
     ]
    }
   ],
   "source": [
    "add = 0\n",
    "num = 1\n",
    "while num <= 10:\n",
    "    add = add + num\n",
    "    num += 1\n",
    "    \n",
    "print ('Addition is ', add)\n",
    "    \n"
   ]
  },
  {
   "cell_type": "code",
   "execution_count": 22,
   "id": "14be3837",
   "metadata": {},
   "outputs": [],
   "source": [
    "# addition of odd numbers till 20"
   ]
  },
  {
   "cell_type": "code",
   "execution_count": 23,
   "id": "47aa6dab",
   "metadata": {},
   "outputs": [
    {
     "name": "stdout",
     "output_type": "stream",
     "text": [
      "Addition is  100\n"
     ]
    }
   ],
   "source": [
    "add = 0\n",
    "num = 1\n",
    "\n",
    "while num <= 20:\n",
    "    add = add + num\n",
    "    num += 2\n",
    "    \n",
    "print ('Addition is ', add)"
   ]
  },
  {
   "cell_type": "markdown",
   "id": "fa780686",
   "metadata": {},
   "source": [
    "# For loop"
   ]
  },
  {
   "cell_type": "code",
   "execution_count": 25,
   "id": "c2b3b675",
   "metadata": {},
   "outputs": [
    {
     "name": "stdout",
     "output_type": "stream",
     "text": [
      "2\n",
      "34\n",
      "5\n",
      "6\n",
      "7\n",
      "8\n",
      "3\n"
     ]
    }
   ],
   "source": [
    "x = [2,34,5,6,7,8,3]\n",
    "\n",
    "for i in x:\n",
    "    print(i)"
   ]
  },
  {
   "cell_type": "code",
   "execution_count": 26,
   "id": "68b4c5b5",
   "metadata": {},
   "outputs": [
    {
     "name": "stdout",
     "output_type": "stream",
     "text": [
      "0\n",
      "1\n",
      "2\n",
      "3\n",
      "4\n",
      "5\n",
      "6\n",
      "7\n",
      "8\n",
      "9\n",
      "10\n",
      "11\n",
      "12\n",
      "13\n",
      "14\n",
      "15\n",
      "16\n",
      "17\n",
      "18\n",
      "19\n"
     ]
    }
   ],
   "source": [
    "for i in range (20):\n",
    "    print (i)"
   ]
  },
  {
   "cell_type": "raw",
   "id": "a3db39c1",
   "metadata": {},
   "source": [
    "# Range function\n",
    "\n",
    "(x,y,z) -> three parameters\n",
    "\n",
    "x -> start point         # range (1,20,2)\n",
    "y -> ending point\n",
    "z -> step"
   ]
  },
  {
   "cell_type": "code",
   "execution_count": 33,
   "id": "2c252e73",
   "metadata": {},
   "outputs": [
    {
     "name": "stdout",
     "output_type": "stream",
     "text": [
      "51\n",
      "46\n",
      "41\n",
      "36\n",
      "31\n",
      "26\n",
      "21\n",
      "16\n",
      "11\n",
      "6\n"
     ]
    }
   ],
   "source": [
    "for i in range(51,1,-5):\n",
    "    print (i)"
   ]
  },
  {
   "cell_type": "code",
   "execution_count": 34,
   "id": "06a1acec",
   "metadata": {},
   "outputs": [
    {
     "name": "stdout",
     "output_type": "stream",
     "text": [
      "RRRRRRRRRR\n",
      "aaaaaaaaaa\n",
      "jjjjjjjjjj\n",
      "eeeeeeeeee\n",
      "ssssssssss\n",
      "hhhhhhhhhh\n"
     ]
    }
   ],
   "source": [
    "for x in 'Rajesh':\n",
    "    print(x*10)"
   ]
  },
  {
   "cell_type": "code",
   "execution_count": 35,
   "id": "e5f5513c",
   "metadata": {},
   "outputs": [],
   "source": [
    "# print square of first 5 numbers"
   ]
  },
  {
   "cell_type": "code",
   "execution_count": 36,
   "id": "8ff5e74c",
   "metadata": {},
   "outputs": [
    {
     "name": "stdout",
     "output_type": "stream",
     "text": [
      "0\n",
      "1\n",
      "4\n",
      "9\n",
      "16\n"
     ]
    }
   ],
   "source": [
    "for i in range(5):\n",
    "    print(i*i)"
   ]
  },
  {
   "cell_type": "code",
   "execution_count": 37,
   "id": "7eb320d3",
   "metadata": {},
   "outputs": [
    {
     "name": "stdout",
     "output_type": "stream",
     "text": [
      "Saurabh\n",
      "Saurabh\n",
      "Saurabh\n",
      "Saurabh\n",
      "Saurabh\n",
      "Saurabh\n",
      "Saurabh\n",
      "Saurabh\n",
      "Saurabh\n",
      "Saurabh\n"
     ]
    }
   ],
   "source": [
    "for x in range(10):\n",
    "    print('Saurabh')"
   ]
  },
  {
   "cell_type": "code",
   "execution_count": 38,
   "id": "6ca81c70",
   "metadata": {},
   "outputs": [],
   "source": [
    "# break statement"
   ]
  },
  {
   "cell_type": "code",
   "execution_count": 41,
   "id": "625a0a08",
   "metadata": {},
   "outputs": [
    {
     "name": "stdout",
     "output_type": "stream",
     "text": [
      "0\n",
      "1\n",
      "2\n",
      "3\n",
      "4\n"
     ]
    }
   ],
   "source": [
    "for x in range(10):\n",
    "    if x == 5:\n",
    "        break\n",
    "    print(x)"
   ]
  },
  {
   "cell_type": "code",
   "execution_count": 42,
   "id": "9b1898aa",
   "metadata": {},
   "outputs": [
    {
     "name": "stdout",
     "output_type": "stream",
     "text": [
      "0\n",
      "1\n",
      "2\n",
      "3\n",
      "4\n",
      "6\n",
      "7\n",
      "8\n",
      "9\n"
     ]
    }
   ],
   "source": [
    "for x in range(10):\n",
    "    if x == 5:\n",
    "        continue\n",
    "    print(x)"
   ]
  },
  {
   "cell_type": "code",
   "execution_count": null,
   "id": "4571e7e6",
   "metadata": {},
   "outputs": [],
   "source": [
    "# assignment -> patterns"
   ]
  }
 ],
 "metadata": {
  "kernelspec": {
   "display_name": "Python 3 (ipykernel)",
   "language": "python",
   "name": "python3"
  },
  "language_info": {
   "codemirror_mode": {
    "name": "ipython",
    "version": 3
   },
   "file_extension": ".py",
   "mimetype": "text/x-python",
   "name": "python",
   "nbconvert_exporter": "python",
   "pygments_lexer": "ipython3",
   "version": "3.9.16"
  }
 },
 "nbformat": 4,
 "nbformat_minor": 5
}
