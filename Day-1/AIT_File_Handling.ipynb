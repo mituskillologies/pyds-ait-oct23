{
 "cells": [
  {
   "cell_type": "code",
   "execution_count": 1,
   "id": "ed7b574e",
   "metadata": {},
   "outputs": [],
   "source": [
    "f1 = open('maha.txt')"
   ]
  },
  {
   "cell_type": "code",
   "execution_count": 2,
   "id": "e787f6ab",
   "metadata": {},
   "outputs": [
    {
     "data": {
      "text/plain": [
       "\"Maharashtra is the single largest contributor to India's Economy with a share of 14 per cent in all-India nominal GDP.[20][21][22] The economy of Maharashtra is the largest in India, with a gross state domestic product (GSDP) of ₹35.27 trillion (US$440 billion) and GSDP per capita of ₹242,247 (US$3,000).[7] The service sector dominates the state's economy, accounting for 69.3 per cent of the value of the output of the country. Although agriculture accounts for 12 per cent of the state GDP, it employs nearly half the population of the state. \\n\""
      ]
     },
     "execution_count": 2,
     "metadata": {},
     "output_type": "execute_result"
    }
   ],
   "source": [
    "data = f1.read()\n",
    "data"
   ]
  },
  {
   "cell_type": "code",
   "execution_count": 3,
   "id": "e8439501",
   "metadata": {},
   "outputs": [],
   "source": [
    "words = data.split()"
   ]
  },
  {
   "cell_type": "code",
   "execution_count": 4,
   "id": "a18a2723",
   "metadata": {},
   "outputs": [
    {
     "data": {
      "text/plain": [
       "['Maharashtra',\n",
       " 'is',\n",
       " 'the',\n",
       " 'single',\n",
       " 'largest',\n",
       " 'contributor',\n",
       " 'to',\n",
       " \"India's\",\n",
       " 'Economy',\n",
       " 'with',\n",
       " 'a',\n",
       " 'share',\n",
       " 'of',\n",
       " '14',\n",
       " 'per',\n",
       " 'cent',\n",
       " 'in',\n",
       " 'all-India',\n",
       " 'nominal',\n",
       " 'GDP.[20][21][22]',\n",
       " 'The',\n",
       " 'economy',\n",
       " 'of',\n",
       " 'Maharashtra',\n",
       " 'is',\n",
       " 'the',\n",
       " 'largest',\n",
       " 'in',\n",
       " 'India,',\n",
       " 'with',\n",
       " 'a',\n",
       " 'gross',\n",
       " 'state',\n",
       " 'domestic',\n",
       " 'product',\n",
       " '(GSDP)',\n",
       " 'of',\n",
       " '₹35.27',\n",
       " 'trillion',\n",
       " '(US$440',\n",
       " 'billion)',\n",
       " 'and',\n",
       " 'GSDP',\n",
       " 'per',\n",
       " 'capita',\n",
       " 'of',\n",
       " '₹242,247',\n",
       " '(US$3,000).[7]',\n",
       " 'The',\n",
       " 'service',\n",
       " 'sector',\n",
       " 'dominates',\n",
       " 'the',\n",
       " \"state's\",\n",
       " 'economy,',\n",
       " 'accounting',\n",
       " 'for',\n",
       " '69.3',\n",
       " 'per',\n",
       " 'cent',\n",
       " 'of',\n",
       " 'the',\n",
       " 'value',\n",
       " 'of',\n",
       " 'the',\n",
       " 'output',\n",
       " 'of',\n",
       " 'the',\n",
       " 'country.',\n",
       " 'Although',\n",
       " 'agriculture',\n",
       " 'accounts',\n",
       " 'for',\n",
       " '12',\n",
       " 'per',\n",
       " 'cent',\n",
       " 'of',\n",
       " 'the',\n",
       " 'state',\n",
       " 'GDP,',\n",
       " 'it',\n",
       " 'employs',\n",
       " 'nearly',\n",
       " 'half',\n",
       " 'the',\n",
       " 'population',\n",
       " 'of',\n",
       " 'the',\n",
       " 'state.']"
      ]
     },
     "execution_count": 4,
     "metadata": {},
     "output_type": "execute_result"
    }
   ],
   "source": [
    "words"
   ]
  },
  {
   "cell_type": "code",
   "execution_count": 6,
   "id": "9c041d77",
   "metadata": {},
   "outputs": [
    {
     "name": "stdout",
     "output_type": "stream",
     "text": [
      "9\n"
     ]
    }
   ],
   "source": [
    "print(words.count('the'))"
   ]
  },
  {
   "cell_type": "code",
   "execution_count": 8,
   "id": "b93ddf7f",
   "metadata": {},
   "outputs": [],
   "source": [
    "f1.close()"
   ]
  },
  {
   "cell_type": "code",
   "execution_count": 9,
   "id": "4ff83181",
   "metadata": {},
   "outputs": [],
   "source": [
    "# file using 'with' statement"
   ]
  },
  {
   "cell_type": "code",
   "execution_count": 10,
   "id": "ea36e6e4",
   "metadata": {},
   "outputs": [
    {
     "name": "stdout",
     "output_type": "stream",
     "text": [
      "Maharashtra is the single largest contributor to India's Economy with a share of 14 per cent in all-India nominal GDP.[20][21][22] The economy of Maharashtra is the largest in India, with a gross state domestic product (GSDP) of ₹35.27 trillion (US$440 billion) and GSDP per capita of ₹242,247 (US$3,000).[7] The service sector dominates the state's economy, accounting for 69.3 per cent of the value of the output of the country. Although agriculture accounts for 12 per cent of the state GDP, it employs nearly half the population of the state. \n",
      "\n"
     ]
    }
   ],
   "source": [
    "with open (\"maha.txt\") as f:\n",
    "    print(f.read())"
   ]
  },
  {
   "cell_type": "code",
   "execution_count": 13,
   "id": "082a2cd5",
   "metadata": {},
   "outputs": [],
   "source": [
    "f = open('maha.txt')\n",
    "w = open('test1.txt', 'w')\n",
    "data = f.read()\n",
    "w.write(data)\n",
    "w.close()\n",
    "f.close()"
   ]
  },
  {
   "cell_type": "code",
   "execution_count": null,
   "id": "bea85230",
   "metadata": {},
   "outputs": [],
   "source": []
  }
 ],
 "metadata": {
  "kernelspec": {
   "display_name": "Python 3 (ipykernel)",
   "language": "python",
   "name": "python3"
  },
  "language_info": {
   "codemirror_mode": {
    "name": "ipython",
    "version": 3
   },
   "file_extension": ".py",
   "mimetype": "text/x-python",
   "name": "python",
   "nbconvert_exporter": "python",
   "pygments_lexer": "ipython3",
   "version": "3.9.16"
  }
 },
 "nbformat": 4,
 "nbformat_minor": 5
}
