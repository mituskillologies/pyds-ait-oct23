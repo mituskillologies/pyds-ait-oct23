{
 "cells": [
  {
   "cell_type": "code",
   "execution_count": 1,
   "id": "ed4ff49f",
   "metadata": {},
   "outputs": [],
   "source": [
    "def show():\n",
    "    print('hello')"
   ]
  },
  {
   "cell_type": "code",
   "execution_count": 2,
   "id": "d2332087",
   "metadata": {},
   "outputs": [
    {
     "name": "stdout",
     "output_type": "stream",
     "text": [
      "hello\n"
     ]
    }
   ],
   "source": [
    "show()"
   ]
  },
  {
   "cell_type": "code",
   "execution_count": 3,
   "id": "a52b7c26",
   "metadata": {},
   "outputs": [
    {
     "name": "stdout",
     "output_type": "stream",
     "text": [
      "hello\n",
      "hello\n",
      "hello\n",
      "hello\n",
      "hello\n",
      "hello\n",
      "hello\n",
      "hello\n",
      "hello\n",
      "hello\n"
     ]
    }
   ],
   "source": [
    "for i in range(10):\n",
    "    show()"
   ]
  },
  {
   "cell_type": "code",
   "execution_count": 4,
   "id": "f5260ccb",
   "metadata": {},
   "outputs": [
    {
     "data": {
      "text/plain": [
       "456"
      ]
     },
     "execution_count": 4,
     "metadata": {},
     "output_type": "execute_result"
    }
   ],
   "source": [
    "list1 = [34,243,456,43,32]\n",
    "\n",
    "max(list1)"
   ]
  },
  {
   "cell_type": "code",
   "execution_count": 5,
   "id": "76a5b664",
   "metadata": {},
   "outputs": [
    {
     "data": {
      "text/plain": [
       "32"
      ]
     },
     "execution_count": 5,
     "metadata": {},
     "output_type": "execute_result"
    }
   ],
   "source": [
    "min(list1)"
   ]
  },
  {
   "cell_type": "code",
   "execution_count": 6,
   "id": "82d71633",
   "metadata": {},
   "outputs": [],
   "source": [
    "# parameterized function"
   ]
  },
  {
   "cell_type": "code",
   "execution_count": 7,
   "id": "713bfbed",
   "metadata": {},
   "outputs": [],
   "source": [
    "def square(n):\n",
    "    sq = n * n\n",
    "    print ('square is', sq)"
   ]
  },
  {
   "cell_type": "code",
   "execution_count": 8,
   "id": "a9f88bb9",
   "metadata": {},
   "outputs": [
    {
     "name": "stdout",
     "output_type": "stream",
     "text": [
      "square is 100\n"
     ]
    }
   ],
   "source": [
    "square(10)"
   ]
  },
  {
   "cell_type": "code",
   "execution_count": 9,
   "id": "60673504",
   "metadata": {},
   "outputs": [],
   "source": [
    "# function for cube"
   ]
  },
  {
   "cell_type": "code",
   "execution_count": 10,
   "id": "d7377844",
   "metadata": {},
   "outputs": [
    {
     "name": "stdout",
     "output_type": "stream",
     "text": [
      "square is 64\n"
     ]
    }
   ],
   "source": [
    "def cube(n):\n",
    "    cu = n ** 3\n",
    "    print ('square is', cu)\n",
    "    \n",
    "cube(4)"
   ]
  },
  {
   "cell_type": "code",
   "execution_count": 11,
   "id": "177aec63",
   "metadata": {},
   "outputs": [],
   "source": [
    "def large(x, y):\n",
    "    if x > y:\n",
    "        print('Larger is', x)\n",
    "    else:\n",
    "        print('Larger is', y)"
   ]
  },
  {
   "cell_type": "code",
   "execution_count": 13,
   "id": "dc073bfc",
   "metadata": {},
   "outputs": [
    {
     "name": "stdout",
     "output_type": "stream",
     "text": [
      "Larger is 50\n"
     ]
    }
   ],
   "source": [
    "large(50,50)"
   ]
  },
  {
   "cell_type": "code",
   "execution_count": 14,
   "id": "ba29d720",
   "metadata": {},
   "outputs": [],
   "source": [
    "# Return"
   ]
  },
  {
   "cell_type": "code",
   "execution_count": 15,
   "id": "7af86750",
   "metadata": {},
   "outputs": [],
   "source": [
    "def square(n):\n",
    "    sq = n * n\n",
    "    return sq"
   ]
  },
  {
   "cell_type": "code",
   "execution_count": 16,
   "id": "3e91a9a6",
   "metadata": {},
   "outputs": [
    {
     "data": {
      "text/plain": [
       "4"
      ]
     },
     "execution_count": 16,
     "metadata": {},
     "output_type": "execute_result"
    }
   ],
   "source": [
    "square(2)"
   ]
  },
  {
   "cell_type": "code",
   "execution_count": 18,
   "id": "b8548f54",
   "metadata": {},
   "outputs": [],
   "source": [
    "def calc(n):\n",
    "    sq = n * n\n",
    "    cu = n ** 3\n",
    "    return sq, cu"
   ]
  },
  {
   "cell_type": "code",
   "execution_count": 19,
   "id": "5cd72c50",
   "metadata": {},
   "outputs": [
    {
     "data": {
      "text/plain": [
       "(9, 27)"
      ]
     },
     "execution_count": 19,
     "metadata": {},
     "output_type": "execute_result"
    }
   ],
   "source": [
    "calc(3)"
   ]
  },
  {
   "cell_type": "code",
   "execution_count": 20,
   "id": "0c423fe5",
   "metadata": {},
   "outputs": [
    {
     "data": {
      "text/plain": [
       "490"
      ]
     },
     "execution_count": 20,
     "metadata": {},
     "output_type": "execute_result"
    }
   ],
   "source": [
    "square(7) * 10"
   ]
  },
  {
   "cell_type": "code",
   "execution_count": 21,
   "id": "8a843fe7",
   "metadata": {},
   "outputs": [],
   "source": [
    "# factorial"
   ]
  },
  {
   "cell_type": "code",
   "execution_count": 22,
   "id": "e9d9e3ff",
   "metadata": {},
   "outputs": [
    {
     "data": {
      "text/plain": [
       "120"
      ]
     },
     "execution_count": 22,
     "metadata": {},
     "output_type": "execute_result"
    }
   ],
   "source": [
    "def factorial (n):\n",
    "    fact = 1\n",
    "    for x in range (1,n+1):\n",
    "        fact = fact * x\n",
    "    return fact\n",
    "\n",
    "factorial(5)\n",
    "    "
   ]
  },
  {
   "cell_type": "markdown",
   "id": "294449f6",
   "metadata": {},
   "source": [
    "#### Default Parameters and Keyword Arguments"
   ]
  },
  {
   "cell_type": "code",
   "execution_count": 3,
   "id": "9e2745dd",
   "metadata": {},
   "outputs": [],
   "source": [
    "def calc(x=4, y=2, z=3):\n",
    "    add = x + y + z\n",
    "    return(add)"
   ]
  },
  {
   "cell_type": "code",
   "execution_count": 4,
   "id": "3859bf04",
   "metadata": {},
   "outputs": [
    {
     "name": "stdout",
     "output_type": "stream",
     "text": [
      "Add1: 13\n",
      "Add2: 15\n",
      "Add3: 10\n",
      "Add4: 9\n",
      "Add5: 13\n",
      "Add6: 16\n"
     ]
    }
   ],
   "source": [
    "print('Add1:',calc(8,4,1))\n",
    "print('Add2:',calc(8,4))\n",
    "print('Add3:',calc(5))\n",
    "print('Add4:',calc())\n",
    "print('Add5:',calc(y=6))\n",
    "print('Add6:',calc(y=6,z=8,x=2))"
   ]
  },
  {
   "cell_type": "code",
   "execution_count": 5,
   "id": "2fe3100d",
   "metadata": {},
   "outputs": [
    {
     "data": {
      "text/plain": [
       "[2, 5, 5, 7, 8, 9]"
      ]
     },
     "execution_count": 5,
     "metadata": {},
     "output_type": "execute_result"
    }
   ],
   "source": [
    "t = [5,7,5,2,8,9]\n",
    "sorted(t)"
   ]
  },
  {
   "cell_type": "code",
   "execution_count": 6,
   "id": "cc6de189",
   "metadata": {},
   "outputs": [
    {
     "data": {
      "text/plain": [
       "[9, 8, 7, 5, 5, 2]"
      ]
     },
     "execution_count": 6,
     "metadata": {},
     "output_type": "execute_result"
    }
   ],
   "source": [
    "sorted(t, reverse=True)"
   ]
  },
  {
   "cell_type": "code",
   "execution_count": 23,
   "id": "a10ae118",
   "metadata": {},
   "outputs": [],
   "source": [
    "# lamda/anonymous funuction"
   ]
  },
  {
   "cell_type": "code",
   "execution_count": 29,
   "id": "9e907291",
   "metadata": {},
   "outputs": [],
   "source": [
    "cube1= lambda x: x**3"
   ]
  },
  {
   "cell_type": "code",
   "execution_count": 30,
   "id": "21ed8908",
   "metadata": {},
   "outputs": [
    {
     "data": {
      "text/plain": [
       "125"
      ]
     },
     "execution_count": 30,
     "metadata": {},
     "output_type": "execute_result"
    }
   ],
   "source": [
    "cube1(5)"
   ]
  },
  {
   "cell_type": "raw",
   "id": "dc744f81",
   "metadata": {},
   "source": [
    "function_name = lamda parameters: function code"
   ]
  },
  {
   "cell_type": "code",
   "execution_count": 1,
   "id": "0b34fa0f",
   "metadata": {},
   "outputs": [],
   "source": [
    "fact = lambda x: 1 if x == 0 else x * fact(x-1) #######################"
   ]
  },
  {
   "cell_type": "code",
   "execution_count": 2,
   "id": "f641bff5",
   "metadata": {},
   "outputs": [
    {
     "data": {
      "text/plain": [
       "120"
      ]
     },
     "execution_count": 2,
     "metadata": {},
     "output_type": "execute_result"
    }
   ],
   "source": [
    "fact(5)"
   ]
  },
  {
   "cell_type": "code",
   "execution_count": 41,
   "id": "1c95cbbb",
   "metadata": {},
   "outputs": [],
   "source": [
    "# map "
   ]
  },
  {
   "cell_type": "code",
   "execution_count": 42,
   "id": "a6d70253",
   "metadata": {},
   "outputs": [],
   "source": [
    "list11 = [23,23,45,67,12,10]"
   ]
  },
  {
   "cell_type": "code",
   "execution_count": 46,
   "id": "03edb28c",
   "metadata": {},
   "outputs": [],
   "source": [
    "newl = map(lambda x:x/2, list1)"
   ]
  },
  {
   "cell_type": "code",
   "execution_count": 49,
   "id": "e3ee932e",
   "metadata": {},
   "outputs": [
    {
     "data": {
      "text/plain": [
       "[17.0, 121.5, 228.0, 21.5, 16.0]"
      ]
     },
     "execution_count": 49,
     "metadata": {},
     "output_type": "execute_result"
    }
   ],
   "source": [
    "list(newl)"
   ]
  },
  {
   "cell_type": "code",
   "execution_count": null,
   "id": "beede081",
   "metadata": {},
   "outputs": [],
   "source": []
  }
 ],
 "metadata": {
  "kernelspec": {
   "display_name": "Python 3 (ipykernel)",
   "language": "python",
   "name": "python3"
  },
  "language_info": {
   "codemirror_mode": {
    "name": "ipython",
    "version": 3
   },
   "file_extension": ".py",
   "mimetype": "text/x-python",
   "name": "python",
   "nbconvert_exporter": "python",
   "pygments_lexer": "ipython3",
   "version": "3.9.16"
  }
 },
 "nbformat": 4,
 "nbformat_minor": 5
}
