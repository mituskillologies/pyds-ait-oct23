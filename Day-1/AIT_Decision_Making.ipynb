{
 "cells": [
  {
   "cell_type": "code",
   "execution_count": 7,
   "id": "42b7ffbf",
   "metadata": {},
   "outputs": [
    {
     "name": "stdout",
     "output_type": "stream",
     "text": [
      "CORRECT\n"
     ]
    }
   ],
   "source": [
    "num = 60\n",
    "\n",
    "if num > 50 :\n",
    "    print('CORRECT')"
   ]
  },
  {
   "cell_type": "code",
   "execution_count": 9,
   "id": "fe5c2e11",
   "metadata": {},
   "outputs": [
    {
     "name": "stdout",
     "output_type": "stream",
     "text": [
      "NOT CORRECT\n"
     ]
    }
   ],
   "source": [
    "if num > 70 :\n",
    "    print('CORRECT')\n",
    "else :\n",
    "    print('NOT CORRECT')\n",
    "    \n",
    "    "
   ]
  },
  {
   "cell_type": "code",
   "execution_count": 13,
   "id": "1b8d8f61",
   "metadata": {},
   "outputs": [
    {
     "name": "stdout",
     "output_type": "stream",
     "text": [
      "Even\n"
     ]
    }
   ],
   "source": [
    "# number even or odd\n",
    "if num % 2 == 0:\n",
    "    print('Even')\n",
    "    \n",
    "else:\n",
    "    print('odd')"
   ]
  },
  {
   "cell_type": "code",
   "execution_count": 15,
   "id": "426ffd78",
   "metadata": {},
   "outputs": [],
   "source": [
    "# take 2 numbers from the user. check which is larger"
   ]
  },
  {
   "cell_type": "code",
   "execution_count": 16,
   "id": "40c4c977",
   "metadata": {},
   "outputs": [
    {
     "name": "stdout",
     "output_type": "stream",
     "text": [
      "enter the 1st number34\n",
      "enter the 2nd number56\n",
      "y is greater\n"
     ]
    }
   ],
   "source": [
    "x = int(input('enter the 1st number'))\n",
    "y = int(input('enter the 2nd number'))\n",
    "\n",
    "if x > y:\n",
    "    print(\"x is greater\")\n",
    "    \n",
    "else:\n",
    "    print(\"y is greater\")"
   ]
  },
  {
   "cell_type": "markdown",
   "id": "44eb0498",
   "metadata": {},
   "source": [
    "#### nested if"
   ]
  },
  {
   "cell_type": "code",
   "execution_count": 17,
   "id": "5d009f54",
   "metadata": {},
   "outputs": [],
   "source": [
    "# check if a number lies between 50 - 100"
   ]
  },
  {
   "cell_type": "code",
   "execution_count": 23,
   "id": "dc021aae",
   "metadata": {},
   "outputs": [
    {
     "name": "stdout",
     "output_type": "stream",
     "text": [
      "enter the number2\n",
      "not ok\n"
     ]
    }
   ],
   "source": [
    "x = int(input('enter the number'))\n",
    "\n",
    "if x > 50:\n",
    "    if x < 100:\n",
    "        print('ok')\n",
    "    else:\n",
    "        print('consider')\n",
    "else:\n",
    "    print ('not ok')"
   ]
  },
  {
   "cell_type": "code",
   "execution_count": 24,
   "id": "9e89be56",
   "metadata": {},
   "outputs": [
    {
     "name": "stdout",
     "output_type": "stream",
     "text": [
      "enter the number56\n",
      "ok\n"
     ]
    }
   ],
   "source": [
    "x = int(input('enter the number'))\n",
    "\n",
    "if x > 50 and x < 100:\n",
    "    print('ok')\n",
    "    \n",
    "else:\n",
    "    print('not ok')"
   ]
  },
  {
   "cell_type": "markdown",
   "id": "eb82a568",
   "metadata": {},
   "source": [
    "#### menu based"
   ]
  },
  {
   "cell_type": "code",
   "execution_count": 29,
   "id": "6aa8e86d",
   "metadata": {},
   "outputs": [
    {
     "name": "stdout",
     "output_type": "stream",
     "text": [
      "enter the number:0\n",
      "1.square\n",
      "2.cube\n",
      "3.odd\n",
      "4.+veOR-ve\n",
      "enter the choice:4\n",
      "ZERO\n"
     ]
    }
   ],
   "source": [
    "num = int(input('enter the number:'))\n",
    "print('1.square\\n2.cube\\n3.odd\\n4.+veOR-ve')\n",
    "choice = int(input('enter the choice:'))\n",
    "\n",
    "if choice == 1:\n",
    "    print('square is', num*num)\n",
    "\n",
    "elif choice == 2:\n",
    "    print('cube is', num**3)\n",
    "             \n",
    "elif choice == 3:\n",
    "    if num % 2 == 0:\n",
    "        print('even')\n",
    "    else:\n",
    "        print('odd')\n",
    "    \n",
    "elif choice == 4:\n",
    "    if num > 0:\n",
    "        print('+ve')\n",
    "    elif num == 0:\n",
    "        print('ZERO')\n",
    "    else:\n",
    "        print('-ve')\n",
    "else:\n",
    "    print('wrong choice')"
   ]
  }
 ],
 "metadata": {
  "kernelspec": {
   "display_name": "Python 3 (ipykernel)",
   "language": "python",
   "name": "python3"
  },
  "language_info": {
   "codemirror_mode": {
    "name": "ipython",
    "version": 3
   },
   "file_extension": ".py",
   "mimetype": "text/x-python",
   "name": "python",
   "nbconvert_exporter": "python",
   "pygments_lexer": "ipython3",
   "version": "3.9.16"
  }
 },
 "nbformat": 4,
 "nbformat_minor": 5
}
